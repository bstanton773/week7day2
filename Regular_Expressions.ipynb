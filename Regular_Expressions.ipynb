{
 "cells": [
  {
   "cell_type": "markdown",
   "metadata": {},
   "source": [
    "Click <a href='https://www.dataquest.io/blog/web-scraping-tutorial-python/'>here</a> to learn about Regular Expressions (RegEx) using Python."
   ]
  },
  {
   "cell_type": "code",
   "execution_count": null,
   "metadata": {},
   "outputs": [],
   "source": [
    "########################\n",
    "# DO NOT RUN THIS CELL #\n",
    "########################\n",
    "\n",
    "a, X, 9, < -- ordinary characters just match themselves exactly.\n",
    ". (a period) -- matches any single character except newline '\\n'\n",
    "\\w -- matches a \"word\" character: a letter or digit or underbar [a-zA-Z0-9_].\n",
    "\\W -- matches any non-word character.\n",
    "\\b -- matches word boundary (in between a word character and a non word character)\n",
    "\\s -- matches a single whitespace character -- space, newline, return, tab\n",
    "\\S -- matches any non-whitespace character.\n",
    "\\t, \\n, \\r -- tab, newline, return\n",
    "\\d -- matches any numeric digit [0-9]\n",
    "\\D matches any non-numeric character.\n",
    "^ -- matches the beginning of the string, or specify omition of certain characters\n",
    "$ -- matches the end of the string\n",
    "\\ -- escapes special character.\n",
    "(x|y|z) matches exactly one of x, y or z.\n",
    "(x) in general is a remembered group. We can get the value of what matched by using the groups() method of the object returned by re.search.\n",
    "x? matches an optional x character (in other words, it matches an x zero or one times).\n",
    "x* matches x zero or more times.\n",
    "x+ matches x one or more times.\n",
    "x{m,n} matches an x character at least m times, but not more than n times.\n",
    "?: matches an expression but do not capture it. Non capturing group.\n",
    "?= matches a suffix but exclude it from capture. Positive lookahead.\n",
    "a(?=b) will match the \"a\" in \"ab\", but not the \"a\" in \"ac\"\n",
    "In other words, a(?=b) matches the \"a\" which is followed by the string 'b', without consuming what follows the a.\n",
    "?! matches if suffix is absent. Negative look ahead.\n",
    "a(?!b) will match the \"a\" in \"ac\", but not the \"a\" in \"ab\"\n",
    "?<= positive look behind\n",
    "[] matches for groupings of consecutive characters\n",
    "?<! negative look behind\n",
    "\n",
    "########################\n",
    "# DO NOT RUN THIS CELL #\n",
    "########################"
   ]
  },
  {
   "cell_type": "markdown",
   "metadata": {},
   "source": [
    "What are word boundaries?\n",
    "--------------------------------------------------\n",
    "Before the first character in the string, if the first character is a word character.<br>\n",
    "After the last character in the string, if the last character is a word character.<br>\n",
    "Between two characters in the string, where one is a word character and the other is not a word character<br>"
   ]
  },
  {
   "cell_type": "code",
   "execution_count": 1,
   "metadata": {},
   "outputs": [],
   "source": [
    "import re"
   ]
  },
  {
   "cell_type": "code",
   "execution_count": 4,
   "metadata": {
    "scrolled": true
   },
   "outputs": [],
   "source": [
    "# open file\n",
    "# encoding = whichever encoding you need for the file that you need to read\n",
    "file = open('./names.txt', encoding='utf-8')\n",
    "\n",
    "# read from the file\n",
    "data = file.read()\n",
    "\n",
    "\n",
    "# always want to close the file after you're done with it.\n",
    "file.close()"
   ]
  },
  {
   "cell_type": "code",
   "execution_count": 5,
   "metadata": {},
   "outputs": [
    {
     "data": {
      "text/plain": [
       "'Hawkins, Derek\\tderek@codingtemple.com\\t(555) 555-5555\\tTeacher, Coding Temple\\t@derekhawkins\\nMilliken, Connor\\tconnor@codingtemple.com\\t(555) 555-5554\\tTeacher, Coding Temple\\nJohnson, Joe\\tjoejohnson@codingtemple.com\\t\\tCarter, Joel\\nÖsterberg, Sven-Erik\\tgovernor@norrbotten.co.se\\t\\tGovernor, Norrbotten\\t@sverik\\n, Tim\\ttim@killerrabbit.com\\t\\tEnchanter, Killer Rabbit Cave\\nButz, Ryan\\tryanb@codingtemple.com\\t(555) 555-5543\\tCEO, Coding Temple\\t@ryanbutz\\nDoctor, The\\tdoctor+companion@tardis.co.uk\\t\\tTime Lord, Gallifrey\\nExampleson, Example\\tme@example.com\\t555-555-5552\\tExample, Example Co.\\t@example\\nObama, Barack\\tpresident.44@us.gov\\t555 555-5551\\tPresident, United States of America\\t@potus44\\nPatel, Ripal\\tripalp@codingtemple.com\\t(555) 555-5553\\tTeacher, Coding Temple\\t@ripalp\\nVader, Darth\\tdarth-vader@empire.gov\\t(555) 555-4444\\tSith Lord, Galactic Empire\\t@darthvader\\nFernández de la Vega Sanz, María Teresa\\tmtfvs@spain.gov\\t\\tFirst Deputy Prime Minister, Spanish Govt.'"
      ]
     },
     "execution_count": 5,
     "metadata": {},
     "output_type": "execute_result"
    }
   ],
   "source": [
    "data"
   ]
  },
  {
   "cell_type": "code",
   "execution_count": 6,
   "metadata": {
    "scrolled": true
   },
   "outputs": [
    {
     "data": {
      "text/plain": [
       "943"
      ]
     },
     "execution_count": 6,
     "metadata": {},
     "output_type": "execute_result"
    }
   ],
   "source": [
    "len(data)"
   ]
  },
  {
   "cell_type": "code",
   "execution_count": 11,
   "metadata": {},
   "outputs": [
    {
     "data": {
      "text/plain": [
       "'Hawkins'"
      ]
     },
     "execution_count": 11,
     "metadata": {},
     "output_type": "execute_result"
    }
   ],
   "source": [
    "data[0:7]"
   ]
  },
  {
   "cell_type": "code",
   "execution_count": 9,
   "metadata": {
    "scrolled": true
   },
   "outputs": [
    {
     "name": "stdout",
     "output_type": "stream",
     "text": [
      "Help on function match in module re:\n",
      "\n",
      "match(pattern, string, flags=0)\n",
      "    Try to apply the pattern at the start of the string, returning\n",
      "    a Match object, or None if no match was found.\n",
      "\n"
     ]
    }
   ],
   "source": [
    "# .match() - Checks for specific strings starting from the beginning of a string\n",
    "help(re.match)"
   ]
  },
  {
   "cell_type": "code",
   "execution_count": 24,
   "metadata": {},
   "outputs": [
    {
     "data": {
      "text/plain": [
       "<re.Match object; span=(0, 14), match='Hawkins, Derek'>"
      ]
     },
     "execution_count": 24,
     "metadata": {},
     "output_type": "execute_result"
    }
   ],
   "source": [
    "re.match(r'Hawkins, Derek', data)"
   ]
  },
  {
   "cell_type": "code",
   "execution_count": 20,
   "metadata": {},
   "outputs": [],
   "source": [
    "re.match(r'Patel', data)"
   ]
  },
  {
   "cell_type": "code",
   "execution_count": null,
   "metadata": {
    "scrolled": true
   },
   "outputs": [],
   "source": [
    "# .match returns the object, if found, otherwise it'll return None\n",
    "# session['cart'] => error\n",
    "# session.get('cart') => None"
   ]
  },
  {
   "cell_type": "code",
   "execution_count": 25,
   "metadata": {},
   "outputs": [
    {
     "data": {
      "text/plain": [
       "<re.Match object; span=(671, 676), match='Patel'>"
      ]
     },
     "execution_count": 25,
     "metadata": {},
     "output_type": "execute_result"
    }
   ],
   "source": [
    "# .search() - Looks for FIRST matching string anywhere in the searchable text string\n",
    "re.search(r'Patel', data)"
   ]
  },
  {
   "cell_type": "code",
   "execution_count": 29,
   "metadata": {
    "scrolled": true
   },
   "outputs": [
    {
     "data": {
      "text/plain": [
       "'s, D'"
      ]
     },
     "execution_count": 29,
     "metadata": {},
     "output_type": "execute_result"
    }
   ],
   "source": [
    "data[6:10]"
   ]
  },
  {
   "cell_type": "code",
   "execution_count": 28,
   "metadata": {
    "scrolled": true
   },
   "outputs": [
    {
     "data": {
      "text/plain": [
       "<re.Match object; span=(6, 10), match='s, D'>"
      ]
     },
     "execution_count": 28,
     "metadata": {},
     "output_type": "execute_result"
    }
   ],
   "source": [
    "re.search(r'\\w, \\w', data)"
   ]
  },
  {
   "cell_type": "code",
   "execution_count": 30,
   "metadata": {
    "scrolled": true
   },
   "outputs": [
    {
     "data": {
      "text/plain": [
       "<re.Match object; span=(0, 10), match='Hawkins, D'>"
      ]
     },
     "execution_count": 30,
     "metadata": {},
     "output_type": "execute_result"
    }
   ],
   "source": [
    "re.search(r'\\w\\w\\w\\w\\w\\w\\w, \\w', data)"
   ]
  },
  {
   "cell_type": "code",
   "execution_count": 32,
   "metadata": {},
   "outputs": [
    {
     "data": {
      "text/plain": [
       "<re.Match object; span=(53, 68), match='Teacher, Coding'>"
      ]
     },
     "execution_count": 32,
     "metadata": {},
     "output_type": "execute_result"
    }
   ],
   "source": [
    "re.search(r'\\w\\w\\w\\w\\w\\w\\w, \\w\\w\\w\\w\\w\\w', data)"
   ]
  },
  {
   "cell_type": "code",
   "execution_count": 33,
   "metadata": {},
   "outputs": [],
   "source": [
    "re.search(r'(555) 555-5555', data)"
   ]
  },
  {
   "cell_type": "code",
   "execution_count": 34,
   "metadata": {},
   "outputs": [
    {
     "data": {
      "text/plain": [
       "<re.Match object; span=(38, 52), match='(555) 555-5555'>"
      ]
     },
     "execution_count": 34,
     "metadata": {},
     "output_type": "execute_result"
    }
   ],
   "source": [
    "# Regular expressions don't automatically recognize ALL special characters\n",
    "re.search(r'\\(555\\) 555-5555', data)"
   ]
  },
  {
   "cell_type": "markdown",
   "metadata": {},
   "source": [
    "<strong>Exercise 1</strong>:<br>\n",
    "Write a function that checks for n number of consecutive digits"
   ]
  },
  {
   "cell_type": "code",
   "execution_count": 47,
   "metadata": {},
   "outputs": [
    {
     "data": {
      "text/plain": [
       "<re.Match object; span=(48, 52), match='5555'>"
      ]
     },
     "execution_count": 47,
     "metadata": {},
     "output_type": "execute_result"
    }
   ],
   "source": [
    "def find_digits(n, searchable_text):\n",
    "    return re.search(r'\\d'*n, searchable_text)\n",
    "\n",
    "find_digits(4, data)"
   ]
  },
  {
   "cell_type": "code",
   "execution_count": 40,
   "metadata": {},
   "outputs": [
    {
     "data": {
      "text/plain": [
       "'\\\\d\\\\d\\\\d'"
      ]
     },
     "execution_count": 40,
     "metadata": {},
     "output_type": "execute_result"
    }
   ],
   "source": [
    "r'\\d' * 3"
   ]
  },
  {
   "cell_type": "code",
   "execution_count": 48,
   "metadata": {},
   "outputs": [],
   "source": [
    "d = \"Hello my name is Brian and my age is 26 and a longer number 3937592048,3452355\""
   ]
  },
  {
   "cell_type": "code",
   "execution_count": 53,
   "metadata": {
    "scrolled": true
   },
   "outputs": [],
   "source": [
    "find_digits(11, d)"
   ]
  },
  {
   "cell_type": "code",
   "execution_count": 56,
   "metadata": {},
   "outputs": [
    {
     "data": {
      "text/plain": [
       "<re.Match object; span=(38, 52), match='(555) 555-5555'>"
      ]
     },
     "execution_count": 56,
     "metadata": {},
     "output_type": "execute_result"
    }
   ],
   "source": [
    "re.search(r'\\(\\d\\d\\d\\) \\d\\d\\d-\\d\\d\\d\\d', data)"
   ]
  },
  {
   "cell_type": "code",
   "execution_count": null,
   "metadata": {},
   "outputs": [],
   "source": [
    "re.search(r'\\(\\d{3}\\) \\d{3}-\\d{4}', data)"
   ]
  },
  {
   "cell_type": "code",
   "execution_count": null,
   "metadata": {},
   "outputs": [],
   "source": []
  },
  {
   "cell_type": "code",
   "execution_count": null,
   "metadata": {},
   "outputs": [],
   "source": []
  },
  {
   "cell_type": "code",
   "execution_count": 57,
   "metadata": {
    "scrolled": true
   },
   "outputs": [
    {
     "data": {
      "text/plain": [
       "['(555) 555-5555',\n",
       " '(555) 555-5554',\n",
       " '(555) 555-5543',\n",
       " '(555) 555-5553',\n",
       " '(555) 555-4444']"
      ]
     },
     "execution_count": 57,
     "metadata": {},
     "output_type": "execute_result"
    }
   ],
   "source": [
    "# .findall() - Looks for matching string anywhere in the searchable text string and stores each instance into a list\n",
    "re.findall(r'\\(\\d{3}\\) \\d{3}-\\d{4}', data)"
   ]
  },
  {
   "cell_type": "code",
   "execution_count": 58,
   "metadata": {},
   "outputs": [
    {
     "data": {
      "text/plain": [
       "['555-555-5552']"
      ]
     },
     "execution_count": 58,
     "metadata": {},
     "output_type": "execute_result"
    }
   ],
   "source": [
    "re.findall(r'\\d{3}-\\d{3}-\\d{4}', data)"
   ]
  },
  {
   "cell_type": "code",
   "execution_count": 59,
   "metadata": {},
   "outputs": [
    {
     "data": {
      "text/plain": [
       "['555 555-5551']"
      ]
     },
     "execution_count": 59,
     "metadata": {},
     "output_type": "execute_result"
    }
   ],
   "source": [
    "re.findall(r'\\d{3} \\d{3}-\\d{4}', data)"
   ]
  },
  {
   "cell_type": "code",
   "execution_count": 62,
   "metadata": {},
   "outputs": [
    {
     "data": {
      "text/plain": [
       "['(555) 555-5555',\n",
       " '(555) 555-5554',\n",
       " '(555) 555-5543',\n",
       " '555-555-5552',\n",
       " '555 555-5551',\n",
       " '(555) 555-5553',\n",
       " '(555) 555-4444']"
      ]
     },
     "execution_count": 62,
     "metadata": {},
     "output_type": "execute_result"
    }
   ],
   "source": [
    "re.findall(r'\\(?\\d{3}\\)?-?\\s?\\d{3}-\\d{4}', data)"
   ]
  },
  {
   "cell_type": "code",
   "execution_count": 64,
   "metadata": {
    "scrolled": true
   },
   "outputs": [
    {
     "name": "stdout",
     "output_type": "stream",
     "text": [
      "Hello, Brian Stanton\n",
      "Hello, Derek Hawkins\n",
      "Hello, Ripal Patel\n",
      "Hello, Joel Carter\n"
     ]
    }
   ],
   "source": [
    "names = \"Stanton, Brian Hawkins, Derek Patel, Ripal Carter, Joel\"\n",
    "names_list = re.findall(r'\\w+, \\w+', names)\n",
    "\n",
    "for i in names_list:\n",
    "    name_list = i.split(', ')\n",
    "    print(f\"Hello, {name_list[1]} {name_list[0]}\")"
   ]
  },
  {
   "cell_type": "code",
   "execution_count": 65,
   "metadata": {},
   "outputs": [
    {
     "data": {
      "text/plain": [
       "['derek@codingtemple.com',\n",
       " 'connor@codingtemple.com',\n",
       " 'joejohnson@codingtemple.com',\n",
       " 'governor@norrbotten.co.se',\n",
       " 'tim@killerrabbit.com',\n",
       " 'ryanb@codingtemple.com',\n",
       " 'doctor+companion@tardis.co.uk',\n",
       " 'me@example.com',\n",
       " 'president.44@us.gov',\n",
       " 'ripalp@codingtemple.com',\n",
       " 'darth-vader@empire.gov',\n",
       " 'mtfvs@spain.gov']"
      ]
     },
     "execution_count": 65,
     "metadata": {},
     "output_type": "execute_result"
    }
   ],
   "source": [
    "re.findall(r'[\\w\\d+.-]+@[\\w\\d.-]+', data)"
   ]
  },
  {
   "cell_type": "code",
   "execution_count": 68,
   "metadata": {},
   "outputs": [
    {
     "data": {
      "text/plain": [
       "['derek@codingtemple.com',\n",
       " 'connor@codingtemple.com',\n",
       " 'joejohnson@codingtemple.com',\n",
       " 'ryanb@codingtemple.com',\n",
       " 'ripalp@codingtemple.com']"
      ]
     },
     "execution_count": 68,
     "metadata": {},
     "output_type": "execute_result"
    }
   ],
   "source": [
    "re.findall(r'[\\w\\d+.-]+@[codingtemple]+.com', data)"
   ]
  },
  {
   "cell_type": "code",
   "execution_count": 90,
   "metadata": {},
   "outputs": [
    {
     "data": {
      "text/plain": [
       "['@codingtemple.com',\n",
       " '@derekhawkins',\n",
       " '@codingtemple.com',\n",
       " '@codingtemple.com',\n",
       " '@norrbotten.co.se',\n",
       " '@sverik',\n",
       " '@killerrabbit.com',\n",
       " '@codingtemple.com',\n",
       " '@ryanbutz',\n",
       " '@tardis.co.uk',\n",
       " '@example.com',\n",
       " '@example',\n",
       " '@us.',\n",
       " '@potus44',\n",
       " '@codingtemple.com',\n",
       " '@ripalp',\n",
       " '@empire.',\n",
       " '@darthvader',\n",
       " '@spain.']"
      ]
     },
     "execution_count": 90,
     "metadata": {},
     "output_type": "execute_result"
    }
   ],
   "source": [
    "# re.VERBOSE/re.X - Allows multiline regular expressions\n",
    "# re.IGNORECASE/re.I - Ignores casing\n",
    "re.findall(r'''\n",
    "    @[-.\\w\\d]+  # grab email addresses\n",
    "    [^gov\\t\\n]+   # omit every instance of 'gov' and \\t and \\n\n",
    "''', data, re.X)"
   ]
  },
  {
   "cell_type": "code",
   "execution_count": null,
   "metadata": {
    "scrolled": true
   },
   "outputs": [],
   "source": []
  },
  {
   "cell_type": "code",
   "execution_count": 119,
   "metadata": {},
   "outputs": [
    {
     "data": {
      "text/plain": [
       "[('Hawkins, Derek',\n",
       "  'derek@codingtemple.com',\n",
       "  '(555) 555-5555',\n",
       "  'Teacher, Coding Temple',\n",
       "  '@derekhawkins'),\n",
       " ('Butz, Ryan',\n",
       "  'ryanb@codingtemple.com',\n",
       "  '(555) 555-5543',\n",
       "  'CEO, Coding Temple',\n",
       "  '@ryanbutz'),\n",
       " ('Obama, Barack',\n",
       "  'president.44@us.gov',\n",
       "  '555 555-5551',\n",
       "  'President, United States of America',\n",
       "  '@potus44'),\n",
       " ('Patel, Ripal',\n",
       "  'ripalp@codingtemple.com',\n",
       "  '(555) 555-5553',\n",
       "  'Teacher, Coding Temple',\n",
       "  '@ripalp'),\n",
       " ('Vader, Darth',\n",
       "  'darth-vader@empire.gov',\n",
       "  '(555) 555-4444',\n",
       "  'Sith Lord, Galactic Empire',\n",
       "  '@darthvader')]"
      ]
     },
     "execution_count": 119,
     "metadata": {},
     "output_type": "execute_result"
    }
   ],
   "source": [
    "re.findall(r'''\n",
    "    ([\\w]*,\\s[-\\w]*)\\t                 # last name, first name\n",
    "    ([-+.\\w\\d]+@[-.\\w\\d]+)\\t           # email\n",
    "    (\\(?\\d{3}\\)?\\s?-?\\d{3}-\\d{4})\\t    # phone number\n",
    "    ([\\w\\s]*,\\s[\\w\\s]*)\\t              # title, company\n",
    "    (@[\\w\\d]+)?                        # twitter\n",
    "''', data, re.X|re.I)"
   ]
  },
  {
   "cell_type": "code",
   "execution_count": 77,
   "metadata": {},
   "outputs": [],
   "source": [
    "info = re.compile(r'''\n",
    "    (?P<name>[\\w]*,\\s[-\\w]*)\\t                 # last name, first name\n",
    "    (?P<email>[-+.\\w\\d]+@[-.\\w\\d]+)\\t           # email\n",
    "    (?P<phone>\\(?\\d{3}\\)?\\s?-?\\d{3}-\\d{4})\\t    # phone number\n",
    "    (?P<occupation>[\\w\\s]*,\\s[\\w\\s]*)\\t              # title, company\n",
    "    (?P<twitter>@[\\w\\d]+)?                        # twitter\n",
    "''', re.X|re.I)"
   ]
  },
  {
   "cell_type": "code",
   "execution_count": 78,
   "metadata": {},
   "outputs": [
    {
     "name": "stdout",
     "output_type": "stream",
     "text": [
      "Name: Hawkins, Derek\n",
      "Twitter: None\n",
      "\n",
      "Name: Milliken, Connor\n",
      "Twitter: None\n",
      "\n",
      "Name: Johnson, Joe\n",
      "Twitter: None\n",
      "\n",
      "Name: Österberg, Sven-Erik\n",
      "Twitter: None\n",
      "\n",
      "Name: Governor, Norrbotten\n",
      "Twitter: @sverik\n",
      "\n",
      "Name: , Tim\n",
      "Twitter: None\n",
      "\n",
      "Name: Butz, Ryan\n",
      "Twitter: None\n",
      "\n",
      "Name: Doctor, The\n",
      "Twitter: None\n",
      "\n",
      "Name: Exampleson, Example\n",
      "Twitter: None\n",
      "\n",
      "Name: Obama, Barack\n",
      "Twitter: None\n",
      "\n",
      "Name: Patel, Ripal\n",
      "Twitter: None\n",
      "\n",
      "Name: Vader, Darth\n",
      "Twitter: None\n",
      "\n"
     ]
    }
   ],
   "source": [
    "for i in info.finditer(data):\n",
    "    print(f\"Name: {i.group('name')}\\nTwitter: {i.group('twitter')}\\n\")"
   ]
  },
  {
   "cell_type": "code",
   "execution_count": null,
   "metadata": {},
   "outputs": [],
   "source": []
  },
  {
   "cell_type": "code",
   "execution_count": 6,
   "metadata": {},
   "outputs": [],
   "source": [
    "# [\n",
    "#     (First and last name,\n",
    "#      email, \n",
    "#      phone,\n",
    "#      title,\n",
    "#      Twitter handle)\n",
    "# ]\n"
   ]
  },
  {
   "cell_type": "markdown",
   "metadata": {},
   "source": [
    "##### In-class exercise 1: \n",
    "\n",
    "Use a regular expression to find every number in a given string"
   ]
  },
  {
   "cell_type": "code",
   "execution_count": 1,
   "metadata": {},
   "outputs": [],
   "source": [
    "import re"
   ]
  },
  {
   "cell_type": "code",
   "execution_count": 2,
   "metadata": {},
   "outputs": [
    {
     "name": "stdout",
     "output_type": "stream",
     "text": [
      "['44', '60634', '773', '739', '9378']\n"
     ]
    }
   ],
   "source": [
    "string = 'I am 44 years old and live in zipcode 60634 and my phone number is 773 739-9378'\n",
    "\n",
    "x = re.findall(r'[0-9]+', string)\n",
    "print(x)"
   ]
  },
  {
   "cell_type": "code",
   "execution_count": 18,
   "metadata": {
    "scrolled": true
   },
   "outputs": [
    {
     "data": {
      "text/plain": [
       "['4',\n",
       " '4',\n",
       " '6',\n",
       " '0',\n",
       " '6',\n",
       " '3',\n",
       " '4',\n",
       " '7',\n",
       " '7',\n",
       " '3',\n",
       " '7',\n",
       " '3',\n",
       " '9',\n",
       " '9',\n",
       " '3',\n",
       " '7',\n",
       " '8']"
      ]
     },
     "execution_count": 18,
     "metadata": {},
     "output_type": "execute_result"
    }
   ],
   "source": [
    "re.findall(r'\\d', string)"
   ]
  },
  {
   "cell_type": "markdown",
   "metadata": {},
   "source": [
    "##### In-class Exercise 2:\n",
    "\n",
    "Write a function using regular expressions to find the domain name in the given email addresses (and return None for the invalid email addresses)<br><b>HINT: Use '|' for either or</b>"
   ]
  },
  {
   "cell_type": "code",
   "execution_count": 20,
   "metadata": {},
   "outputs": [],
   "source": [
    "my_emails = [\"jordanw@codingtemple.orgcom\", \"pocohontas1776@gmail.com\", \"helloworld@aol..com\", \"yourfavoriteband@g6.org\", \"@codingtemple.com\"]\n"
   ]
  },
  {
   "cell_type": "code",
   "execution_count": 36,
   "metadata": {},
   "outputs": [
    {
     "name": "stdout",
     "output_type": "stream",
     "text": [
      "codingtemple\n",
      "gmail\n",
      "None\n",
      "g6\n",
      "codingtemple\n"
     ]
    }
   ],
   "source": [
    "for email in my_emails:\n",
    "    # if email is valid\n",
    "    if re.search(r'[\\w\\d]*@[\\w\\d]+.(com|org)', email):\n",
    "        # print domain\n",
    "        print(re.findall(r'@[\\w\\d]+', email)[0][1:])   \n",
    "    # otherwise\n",
    "    else:\n",
    "        print(None)\n",
    "        # print None"
   ]
  },
  {
   "cell_type": "markdown",
   "metadata": {},
   "source": [
    "### In-Class Exercise #3 <br>\n",
    "<p>Print each persons name and twitter handle, using groups, should look like:</p>\n",
    "<p>==============<br>\n",
    "   Full Name / Twitter<br>\n",
    "   ==============</p>\n",
    "<p>Derek Hawkins / @derekhawkins<br>\n",
    "Norrbotten Governor / @sverik<br>\n",
    "Ryan Butz / @ryanbutz</p>\n",
    "<p>etc.</p>"
   ]
  },
  {
   "cell_type": "code",
   "execution_count": 81,
   "metadata": {},
   "outputs": [],
   "source": [
    "info = re.compile(r'''\n",
    "    (?P<name>[\\w]*,\\s[-\\w]*)\\t                 # last name, first name\n",
    "    (?P<optional>[-+.\\w\\d]+@[-.,\\w\\d\\(\\)\\t\\s]+)?\n",
    "    (?P<twitter>@[\\w\\d]+)?                        # twitter\n",
    "''', re.X|re.I)"
   ]
  },
  {
   "cell_type": "code",
   "execution_count": 89,
   "metadata": {},
   "outputs": [
    {
     "name": "stdout",
     "output_type": "stream",
     "text": [
      "==============\n",
      "Derek Hawkins/@derekhawkins\n",
      "==============\n",
      "\n",
      "\n",
      "==============\n",
      "Connor Milliken/@codingtemple\n",
      "==============\n",
      "\n",
      "\n",
      "==============\n",
      "Sven-Erik Österberg/@sverik\n",
      "==============\n",
      "\n",
      "\n",
      "==============\n",
      "Tim /@codingtemple\n",
      "==============\n",
      "\n",
      "\n",
      "==============\n",
      "The Doctor/@example\n",
      "==============\n",
      "\n",
      "\n",
      "==============\n",
      "Barack Obama/@potus44\n",
      "==============\n",
      "\n",
      "\n",
      "==============\n",
      "Ripal Patel/@ripalp\n",
      "==============\n",
      "\n",
      "\n",
      "==============\n",
      "Darth Vader/@darthvader\n",
      "==============\n",
      "\n",
      "\n"
     ]
    }
   ],
   "source": [
    "for i in info.finditer(data):\n",
    "    print(\"==============\")\n",
    "    print(f\"{i.group('name').split(', ')[1]} {i.group('name').split(', ')[0]}/{i.group('twitter')}\")\n",
    "    print(\"==============\")\n",
    "    print('\\n')"
   ]
  },
  {
   "cell_type": "code",
   "execution_count": 87,
   "metadata": {},
   "outputs": [
    {
     "name": "stdout",
     "output_type": "stream",
     "text": [
      "['Hawkins', 'Derek']\n",
      "['Milliken', 'Connor']\n",
      "['Österberg', 'Sven-Erik']\n",
      "['', 'Tim']\n",
      "['Doctor', 'The']\n",
      "['Obama', 'Barack']\n",
      "['Patel', 'Ripal']\n",
      "['Vader', 'Darth']\n"
     ]
    }
   ],
   "source": [
    "for i in info.finditer(data):\n",
    "    print(i.group('name').split(', '))"
   ]
  },
  {
   "cell_type": "code",
   "execution_count": 96,
   "metadata": {},
   "outputs": [
    {
     "data": {
      "text/plain": [
       "3"
      ]
     },
     "execution_count": 96,
     "metadata": {},
     "output_type": "execute_result"
    }
   ],
   "source": [
    "def leastLarger(arr, idx):\n",
    "    b = [i for i in arr if i > arr[idx]]\n",
    "    return arr.index(min(b)) if b else -1\n",
    "\n",
    "leastLarger([4, 1, 3, 5, 6], 0)"
   ]
  },
  {
   "cell_type": "code",
   "execution_count": 93,
   "metadata": {},
   "outputs": [
    {
     "name": "stdout",
     "output_type": "stream",
     "text": [
      "Help on class list in module builtins:\n",
      "\n",
      "class list(object)\n",
      " |  list(iterable=(), /)\n",
      " |  \n",
      " |  Built-in mutable sequence.\n",
      " |  \n",
      " |  If no argument is given, the constructor creates a new empty list.\n",
      " |  The argument must be an iterable if specified.\n",
      " |  \n",
      " |  Methods defined here:\n",
      " |  \n",
      " |  __add__(self, value, /)\n",
      " |      Return self+value.\n",
      " |  \n",
      " |  __contains__(self, key, /)\n",
      " |      Return key in self.\n",
      " |  \n",
      " |  __delitem__(self, key, /)\n",
      " |      Delete self[key].\n",
      " |  \n",
      " |  __eq__(self, value, /)\n",
      " |      Return self==value.\n",
      " |  \n",
      " |  __ge__(self, value, /)\n",
      " |      Return self>=value.\n",
      " |  \n",
      " |  __getattribute__(self, name, /)\n",
      " |      Return getattr(self, name).\n",
      " |  \n",
      " |  __getitem__(...)\n",
      " |      x.__getitem__(y) <==> x[y]\n",
      " |  \n",
      " |  __gt__(self, value, /)\n",
      " |      Return self>value.\n",
      " |  \n",
      " |  __iadd__(self, value, /)\n",
      " |      Implement self+=value.\n",
      " |  \n",
      " |  __imul__(self, value, /)\n",
      " |      Implement self*=value.\n",
      " |  \n",
      " |  __init__(self, /, *args, **kwargs)\n",
      " |      Initialize self.  See help(type(self)) for accurate signature.\n",
      " |  \n",
      " |  __iter__(self, /)\n",
      " |      Implement iter(self).\n",
      " |  \n",
      " |  __le__(self, value, /)\n",
      " |      Return self<=value.\n",
      " |  \n",
      " |  __len__(self, /)\n",
      " |      Return len(self).\n",
      " |  \n",
      " |  __lt__(self, value, /)\n",
      " |      Return self<value.\n",
      " |  \n",
      " |  __mul__(self, value, /)\n",
      " |      Return self*value.\n",
      " |  \n",
      " |  __ne__(self, value, /)\n",
      " |      Return self!=value.\n",
      " |  \n",
      " |  __repr__(self, /)\n",
      " |      Return repr(self).\n",
      " |  \n",
      " |  __reversed__(self, /)\n",
      " |      Return a reverse iterator over the list.\n",
      " |  \n",
      " |  __rmul__(self, value, /)\n",
      " |      Return value*self.\n",
      " |  \n",
      " |  __setitem__(self, key, value, /)\n",
      " |      Set self[key] to value.\n",
      " |  \n",
      " |  __sizeof__(self, /)\n",
      " |      Return the size of the list in memory, in bytes.\n",
      " |  \n",
      " |  append(self, object, /)\n",
      " |      Append object to the end of the list.\n",
      " |  \n",
      " |  clear(self, /)\n",
      " |      Remove all items from list.\n",
      " |  \n",
      " |  copy(self, /)\n",
      " |      Return a shallow copy of the list.\n",
      " |  \n",
      " |  count(self, value, /)\n",
      " |      Return number of occurrences of value.\n",
      " |  \n",
      " |  extend(self, iterable, /)\n",
      " |      Extend list by appending elements from the iterable.\n",
      " |  \n",
      " |  index(self, value, start=0, stop=9223372036854775807, /)\n",
      " |      Return first index of value.\n",
      " |      \n",
      " |      Raises ValueError if the value is not present.\n",
      " |  \n",
      " |  insert(self, index, object, /)\n",
      " |      Insert object before index.\n",
      " |  \n",
      " |  pop(self, index=-1, /)\n",
      " |      Remove and return item at index (default last).\n",
      " |      \n",
      " |      Raises IndexError if list is empty or index is out of range.\n",
      " |  \n",
      " |  remove(self, value, /)\n",
      " |      Remove first occurrence of value.\n",
      " |      \n",
      " |      Raises ValueError if the value is not present.\n",
      " |  \n",
      " |  reverse(self, /)\n",
      " |      Reverse *IN PLACE*.\n",
      " |  \n",
      " |  sort(self, /, *, key=None, reverse=False)\n",
      " |      Sort the list in ascending order and return None.\n",
      " |      \n",
      " |      The sort is in-place (i.e. the list itself is modified) and stable (i.e. the\n",
      " |      order of two equal elements is maintained).\n",
      " |      \n",
      " |      If a key function is given, apply it once to each list item and sort them,\n",
      " |      ascending or descending, according to their function values.\n",
      " |      \n",
      " |      The reverse flag can be set to sort in descending order.\n",
      " |  \n",
      " |  ----------------------------------------------------------------------\n",
      " |  Static methods defined here:\n",
      " |  \n",
      " |  __new__(*args, **kwargs) from builtins.type\n",
      " |      Create and return a new object.  See help(type) for accurate signature.\n",
      " |  \n",
      " |  ----------------------------------------------------------------------\n",
      " |  Data and other attributes defined here:\n",
      " |  \n",
      " |  __hash__ = None\n",
      "\n"
     ]
    }
   ],
   "source": [
    "help(list)"
   ]
  },
  {
   "cell_type": "code",
   "execution_count": null,
   "metadata": {},
   "outputs": [],
   "source": []
  }
 ],
 "metadata": {
  "kernelspec": {
   "display_name": "Python 3",
   "language": "python",
   "name": "python3"
  },
  "language_info": {
   "codemirror_mode": {
    "name": "ipython",
    "version": 3
   },
   "file_extension": ".py",
   "mimetype": "text/x-python",
   "name": "python",
   "nbconvert_exporter": "python",
   "pygments_lexer": "ipython3",
   "version": "3.8.3"
  }
 },
 "nbformat": 4,
 "nbformat_minor": 4
}
